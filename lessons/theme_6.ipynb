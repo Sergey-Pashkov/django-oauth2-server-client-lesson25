{
 "cells": [
  {
   "cell_type": "markdown",
   "metadata": {},
   "source": [
    "### **6. Интеграция с внешними авторизационными серверами**"
   ]
  },
  {
   "cell_type": "markdown",
   "metadata": {},
   "source": [
    "#### **Шаг 1: Основы интеграции с внешними провайдерами**"
   ]
  },
  {
   "cell_type": "markdown",
   "metadata": {},
   "source": [
    "OAuth 2.0 позволяет использовать авторизационные серверы сторонних сервисов, таких как Google, GitHub, Facebook, и др., для аутентификации пользователей вашего приложения. Это удобно, так как пользователи могут войти с помощью существующих учётных записей.\n",
    "\n",
    "Для интеграции вам понадобится:\n",
    "- Зарегистрировать приложение у стороннего провайдера.\n",
    "- Настроить Django для взаимодействия с этим провайдером."
   ]
  },
  {
   "cell_type": "markdown",
   "metadata": {},
   "source": [
    "#### **Шаг 2: Пример интеграции с Google OAuth 2.0**"
   ]
  },
  {
   "cell_type": "markdown",
   "metadata": {},
   "source": [
    "1. **Регистрация приложения на платформе Google**\n",
    "   - Перейдите в [Google Cloud Console](https://console.cloud.google.com/).\n",
    "   - Создайте новый проект или выберите существующий.\n",
    "   - Перейдите в раздел **APIs & Services** → **Credentials**.\n",
    "   - Нажмите **Create Credentials** → **OAuth 2.0 Client ID**.\n",
    "     - Укажите тип приложения: **Web application**.\n",
    "     - Добавьте разрешённые URI:\n",
    "       - **Authorized redirect URI:** Укажите адрес вашего приложения, например:  \n",
    "         `http://127.0.0.1:8000/accounts/google/login/callback/` (для локального сервера).\n",
    "   - Сохраните **Client ID** и **Client Secret** — они понадобятся для настройки.\n",
    "\n",
    "2. **Установка библиотек для Django**\n",
    "   Установите библиотеку `django-allauth`, которая поддерживает интеграцию с OAuth 2.0:\n",
    "   ```bash\n",
    "   pip install django-allauth\n",
    "   ```\n",
    "\n",
    "3. **Настройка проекта**\n",
    "   В `settings.py` добавьте следующие параметры:\n",
    "\n",
    "   ```python\n",
    "   INSTALLED_APPS += [\n",
    "       'django.contrib.sites',  # Обязательно для allauth\n",
    "       'allauth',\n",
    "       'allauth.account',\n",
    "       'allauth.socialaccount',\n",
    "       'allauth.socialaccount.providers.google',  # Провайдер Google OAuth\n",
    "   ]\n",
    "\n",
    "   SITE_ID = 1  # Стандартный ID для вашего сайта\n",
    "\n",
    "   # Настройка редиректов\n",
    "   LOGIN_REDIRECT_URL = '/'  # Куда перенаправлять пользователя после входа\n",
    "   LOGOUT_REDIRECT_URL = '/'  # Куда перенаправлять после выхода\n",
    "\n",
    "   # Настройка авторизационного сервера\n",
    "   SOCIALACCOUNT_PROVIDERS = {\n",
    "       'google': {\n",
    "           'APP': {\n",
    "               'client_id': 'ваш_client_id',\n",
    "               'secret': 'ваш_client_secret',\n",
    "               'key': ''\n",
    "           }\n",
    "       }\n",
    "   }\n",
    "   ```\n",
    "\n",
    "4. **Добавление маршрутов**\n",
    "   В файле `urls.py` подключите маршруты `allauth`:\n",
    "   ```python\n",
    "   from django.urls import path, include\n",
    "\n",
    "   urlpatterns = [\n",
    "       path('accounts/', include('allauth.urls')),  # URL для OAuth 2.0\n",
    "   ]\n",
    "   ```\n",
    "\n",
    "5. **Миграции и запуск**\n",
    "   Выполните миграции:\n",
    "   ```bash\n",
    "   python manage.py migrate\n",
    "   ```\n",
    "   Запустите сервер:\n",
    "   ```bash\n",
    "   python manage.py runserver\n",
    "   ```\n",
    "\n",
    "6. **Тестирование**\n",
    "   Перейдите по адресу:\n",
    "   ```\n",
    "   http://127.0.0.1:8000/accounts/google/login/\n",
    "   ```\n",
    "   - Вы будете перенаправлены на страницу входа Google.\n",
    "   - После авторизации Google вернёт вас на сайт, и пользователь будет автоматически зарегистрирован в базе данных.\n"
   ]
  },
  {
   "cell_type": "markdown",
   "metadata": {},
   "source": [
    "#### **Шаг 3: Пример интеграции с GitHub OAuth 2.0**"
   ]
  },
  {
   "cell_type": "markdown",
   "metadata": {},
   "source": [
    "1. **Регистрация приложения на платформе GitHub**\n",
    "   - Перейдите в [GitHub Developer Settings](https://github.com/settings/developers).\n",
    "   - Нажмите **New OAuth App**.\n",
    "   - Укажите настройки:\n",
    "     - **Application name:** Название приложения.\n",
    "     - **Homepage URL:** Например, `http://127.0.0.1:8000/`.\n",
    "     - **Authorization callback URL:** Укажите:  \n",
    "       `http://127.0.0.1:8000/accounts/github/login/callback/`.\n",
    "   - Сохраните приложение. Вы получите **Client ID** и **Client Secret**.\n",
    "\n",
    "2. **Настройка провайдера GitHub в Django**\n",
    "   - Убедитесь, что библиотека `django-allauth` уже установлена.\n",
    "   - Добавьте в `INSTALLED_APPS` провайдер GitHub:\n",
    "     ```python\n",
    "     'allauth.socialaccount.providers.github',\n",
    "     ```\n",
    "   - В `settings.py` добавьте параметры для GitHub:\n",
    "     ```python\n",
    "     SOCIALACCOUNT_PROVIDERS = {\n",
    "         'github': {\n",
    "             'APP': {\n",
    "                 'client_id': 'ваш_client_id',\n",
    "                 'secret': 'ваш_client_secret',\n",
    "                 'key': ''\n",
    "             }\n",
    "         }\n",
    "     }\n",
    "     ```\n",
    "\n",
    "3. **Тестирование**\n",
    "   Перейдите по адресу:\n",
    "   ```\n",
    "   http://127.0.0.1:8000/accounts/github/login/\n",
    "   ```\n",
    "   После авторизации GitHub создаст пользователя в базе данных Django.\n"
   ]
  },
  {
   "cell_type": "markdown",
   "metadata": {},
   "source": [
    "#### **Шаг 4: Настройка доступа к данным пользователя**"
   ]
  },
  {
   "cell_type": "markdown",
   "metadata": {},
   "source": [
    "OAuth позволяет запрашивать дополнительные данные пользователя, такие как email, имя, аватар.\n",
    "\n",
    "1. Для Google:\n",
    "   В настройках Google Console убедитесь, что API **People API** активирован. Теперь вы можете запросить такие данные:\n",
    "   - Имя.\n",
    "   - Email.\n",
    "   - Аватар.\n",
    "\n",
    "2. Для GitHub:\n",
    "   GitHub предоставляет доступ к данным профиля, например:\n",
    "   - Имя.\n",
    "   - Логин.\n",
    "   - Репозитории.\n",
    "   - Аватар.\n",
    "\n",
    "3. **Обработка данных в Django:**\n",
    "   После успешного входа данные сохраняются в `SocialAccount`. Например, для получения email:\n",
    "   ```python\n",
    "   from allauth.socialaccount.models import SocialAccount\n",
    "\n",
    "   def get_user_email(user):\n",
    "       social_account = SocialAccount.objects.filter(user=user, provider='google').first()\n",
    "       if social_account:\n",
    "           return social_account.extra_data.get('email')\n",
    "       return None\n",
    "   ```\n"
   ]
  },
  {
   "cell_type": "markdown",
   "metadata": {},
   "source": [
    "#### **Вывод**"
   ]
  },
  {
   "cell_type": "markdown",
   "metadata": {},
   "source": [
    "\n",
    "Интеграция с внешними авторизационными серверами упрощает процесс аутентификации, повышает безопасность и улучшает пользовательский опыт. Выбор между Google, GitHub или другими провайдерами зависит от вашей аудитории и функциональных требований."
   ]
  }
 ],
 "metadata": {
  "language_info": {
   "name": "python"
  }
 },
 "nbformat": 4,
 "nbformat_minor": 2
}
