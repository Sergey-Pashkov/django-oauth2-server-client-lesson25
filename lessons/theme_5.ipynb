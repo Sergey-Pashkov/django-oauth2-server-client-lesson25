{
 "cells": [
  {
   "cell_type": "markdown",
   "metadata": {},
   "source": [
    "### **5. Практическая реализация авторизации OAuth 2.0**"
   ]
  },
  {
   "cell_type": "markdown",
   "metadata": {},
   "source": [
    "#### **Шаг 1: Регистрация клиента OAuth в панели администратора**"
   ]
  },
  {
   "cell_type": "markdown",
   "metadata": {},
   "source": [
    "OAuth требует регистрации клиента (приложения), чтобы идентифицировать его при запросе токенов.\n",
    "\n",
    "1. Запустите сервер:\n",
    "   ```bash\n",
    "   python manage.py runserver\n",
    "   ```\n",
    "2. Перейдите в админ-панель по адресу:\n",
    "   ```\n",
    "   http://127.0.0.1:8000/admin/\n",
    "   ```\n",
    "3. Авторизуйтесь с логином и паролем суперпользователя, который вы создали ранее.\n",
    "4. В разделе **\"Applications\"** нажмите **\"Add\"**.\n",
    "5. Заполните форму:\n",
    "   - **Name:** Укажите название клиента (например, `Test Client`).\n",
    "   - **Client ID:** Оставьте пустым, он будет создан автоматически.\n",
    "   - **Client Secret:** Оставьте пустым, он также будет создан автоматически.\n",
    "   - **Client Type:** Выберите **Confidential** (для защищённых приложений).\n",
    "   - **Authorization Grant Type:** Выберите **Resource owner password-based** (пароль пользователя).\n",
    "   - **Redirect URIs:** Оставьте пустым (не требуется для данного типа авторизации).\n",
    "\n",
    "6. Сохраните приложение. После этого будет создан клиент с уникальными `Client ID` и `Client Secret`. Они понадобятся для получения токенов.\n"
   ]
  },
  {
   "cell_type": "markdown",
   "metadata": {},
   "source": [
    "#### **Шаг 2: Получение токенов доступа через запросы**"
   ]
  },
  {
   "cell_type": "markdown",
   "metadata": {},
   "source": [
    "Теперь вы можете запросить `Access Token` (токен доступа) для взаимодействия с API.\n",
    "\n",
    "1. **Сценарий для получения токена через Postman или Python (без стороннего ПО):**\n",
    "\n",
    "Создайте Python-скрипт `get_token.py` для получения токена:\n",
    "```python\n",
    "import requests\n",
    "\n",
    "url = \"http://127.0.0.1:8000/o/token/\"\n",
    "data = {\n",
    "    \"grant_type\": \"password\",\n",
    "    \"username\": \"ваш_логин\",  # Логин существующего пользователя\n",
    "    \"password\": \"ваш_пароль\",  # Пароль существующего пользователя\n",
    "    \"client_id\": \"ваш_client_id\",  # Укажите Client ID из админки\n",
    "    \"client_secret\": \"ваш_client_secret\",  # Укажите Client Secret из админки\n",
    "}\n",
    "\n",
    "response = requests.post(url, data=data)\n",
    "\n",
    "if response.status_code == 200:\n",
    "    print(\"Access Token:\", response.json().get(\"access_token\"))\n",
    "    print(\"Refresh Token:\", response.json().get(\"refresh_token\"))\n",
    "else:\n",
    "    print(\"Error:\", response.json())\n",
    "```\n",
    "\n",
    "2. Запустите скрипт:\n",
    "   ```bash\n",
    "   python get_token.py\n",
    "   ```\n",
    "3. В результате вы получите:\n",
    "   - **Access Token** (например, `abcdef12345...`) — используется для доступа к защищённым API.\n",
    "   - **Refresh Token** (например, `12345xyz...`) — используется для обновления истёкшего `Access Token`.\n"
   ]
  },
  {
   "cell_type": "markdown",
   "metadata": {},
   "source": [
    "#### **Шаг 3: Работа с Access Token для доступа к API**"
   ]
  },
  {
   "cell_type": "markdown",
   "metadata": {},
   "source": [
    "Теперь используем `Access Token`, чтобы получить доступ к защищённому ресурсу.\n",
    "\n",
    "1. Перейдите в браузер и откройте URL (замените `ACCESS_TOKEN` своим токеном):\n",
    "   ```\n",
    "   http://127.0.0.1:8000/api/protected/?access_token=ACCESS_TOKEN\n",
    "   ```\n",
    "2. Если всё настроено верно, вы увидите ответ:\n",
    "   ```json\n",
    "   {\n",
    "       \"message\": \"Вы успешно авторизовались!\",\n",
    "       \"user\": \"ваше_имя_пользователя\"\n",
    "   }\n",
    "   ```\n"
   ]
  },
  {
   "cell_type": "markdown",
   "metadata": {},
   "source": [
    "#### **Шаг 4: Обновление токенов через Refresh Token**"
   ]
  },
  {
   "cell_type": "markdown",
   "metadata": {},
   "source": [
    "`Access Token` имеет ограниченный срок действия (по умолчанию 3600 секунд). Чтобы не вводить логин и пароль заново, можно использовать `Refresh Token` для обновления.\n",
    "\n",
    "Создайте Python-скрипт `refresh_token.py`:\n",
    "```python\n",
    "import requests\n",
    "\n",
    "url = \"http://127.0.0.1:8000/o/token/\"\n",
    "data = {\n",
    "    \"grant_type\": \"refresh_token\",\n",
    "    \"refresh_token\": \"ваш_refresh_token\",  # Укажите ранее полученный Refresh Token\n",
    "    \"client_id\": \"ваш_client_id\",\n",
    "    \"client_secret\": \"ваш_client_secret\",\n",
    "}\n",
    "\n",
    "response = requests.post(url, data=data)\n",
    "\n",
    "if response.status_code == 200:\n",
    "    print(\"New Access Token:\", response.json().get(\"access_token\"))\n",
    "    print(\"New Refresh Token:\", response.json().get(\"refresh_token\"))\n",
    "else:\n",
    "    print(\"Error:\", response.json())\n",
    "```\n",
    "\n",
    "Запустите скрипт:\n",
    "```bash\n",
    "python refresh_token.py\n",
    "```\n",
    "\n",
    "Вы получите новый `Access Token` и `Refresh Token`, которые можно использовать далее."
   ]
  },
  {
   "cell_type": "markdown",
   "metadata": {},
   "source": [
    "#### **Дополнительные рекомендации**"
   ]
  },
  {
   "cell_type": "markdown",
   "metadata": {},
   "source": [
    "\n",
    "\n",
    "1. **Токены в админке:** Все токены можно увидеть в панели администратора в разделе **\"Access Tokens\"**.\n",
    "2. **Срок действия токенов:** Если требуется изменить срок действия токенов, настройте это в `settings.py`:\n",
    "   ```python\n",
    "   OAUTH2_PROVIDER = {\n",
    "       \"ACCESS_TOKEN_EXPIRE_SECONDS\": 3600,  # Время действия токена (в секундах)\n",
    "       \"REFRESH_TOKEN_EXPIRE_SECONDS\": 86400,  # Время действия Refresh Token\n",
    "   }\n",
    "   ```\n",
    "3. **Безопасность:**\n",
    "   - Никогда не передавайте `Client Secret` в открытом виде.\n",
    "   - Используйте защищённое соединение (HTTPS) на боевом сервере."
   ]
  }
 ],
 "metadata": {
  "language_info": {
   "name": "python"
  }
 },
 "nbformat": 4,
 "nbformat_minor": 2
}
