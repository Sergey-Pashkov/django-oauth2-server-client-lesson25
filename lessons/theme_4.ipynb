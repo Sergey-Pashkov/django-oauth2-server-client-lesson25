{
 "cells": [
  {
   "cell_type": "markdown",
   "metadata": {},
   "source": [
    "### 4. **Настройка OAuth 2.0 в Django (без сторонних инструментов)**"
   ]
  },
  {
   "cell_type": "markdown",
   "metadata": {},
   "source": [
    "#### Шаг 1. **Добавление middleware и маршрутов**"
   ]
  },
  {
   "cell_type": "markdown",
   "metadata": {},
   "source": [
    "Убедитесь, что в вашем проекте уже подключены все необходимые приложения и middleware, как мы делали ранее:\n",
    "\n",
    "1. В `INSTALLED_APPS` (`settings.py`):\n",
    "   ```python\n",
    "   INSTALLED_APPS = [\n",
    "       ...\n",
    "       'oauth2_provider',  # Подключаем поддержку OAuth 2.0\n",
    "       'rest_framework',  # Для создания API\n",
    "   ]\n",
    "   ```\n",
    "\n",
    "2. В `urls.py`:\n",
    "   ```python\n",
    "   from django.urls import path, include\n",
    "\n",
    "   urlpatterns = [\n",
    "       ...\n",
    "       path('o/', include('oauth2_provider.urls', namespace='oauth2_provider')),  # OAuth 2.0 маршруты\n",
    "   ]\n",
    "   ```\n"
   ]
  },
  {
   "cell_type": "markdown",
   "metadata": {},
   "source": [
    "#### Шаг 2. **Настройка отображения токенов в админке**"
   ]
  },
  {
   "cell_type": "markdown",
   "metadata": {},
   "source": [
    "Для того чтобы токены были видны в админке, их нужно зарегистрировать.\n",
    "\n",
    "1. **Откройте `admin.py` вашего приложения**:\n",
    "   Если файла `admin.py` ещё нет, создайте его.\n",
    "\n",
    "2. **Добавьте отображение моделей токенов**:\n",
    "   ```python\n",
    "   from django.contrib import admin\n",
    "   from oauth2_provider.models import AccessToken, Application, RefreshToken\n",
    "\n",
    "   # Регистрируем модели в админке\n",
    "   admin.site.register(AccessToken)\n",
    "   admin.site.register(RefreshToken)\n",
    "   admin.site.register(Application)\n",
    "   ```\n",
    "\n",
    "Теперь в админке вы сможете видеть:\n",
    "- **Applications** (приложения, которые запрашивают токены).\n",
    "- **Access Tokens** (токены доступа).\n",
    "- **Refresh Tokens** (обновляющие токены).\n"
   ]
  },
  {
   "cell_type": "markdown",
   "metadata": {},
   "source": [
    "#### Шаг 3. **Создание защищённого API**"
   ]
  },
  {
   "cell_type": "markdown",
   "metadata": {},
   "source": [
    "1. **Создайте защищённый API**:\n",
    "   Откройте `views.py` вашего приложения и создайте класс:\n",
    "   ```python\n",
    "   from rest_framework.views import APIView\n",
    "   from rest_framework.response import Response\n",
    "   from rest_framework.permissions import IsAuthenticated\n",
    "   from oauth2_provider.contrib.rest_framework import OAuth2Authentication\n",
    "\n",
    "   class ProtectedView(APIView):\n",
    "       authentication_classes = [OAuth2Authentication]  # Используем OAuth2 для аутентификации\n",
    "       permission_classes = [IsAuthenticated]  # Доступ только авторизованным пользователям\n",
    "\n",
    "       def get(self, request):\n",
    "           return Response({\"message\": \"Вы успешно авторизовались!\", \"user\": request.user.username})\n",
    "   ```\n",
    "\n",
    "2. **Добавьте маршрут**:\n",
    "   В `urls.py` приложения подключите этот эндпоинт:\n",
    "   ```python\n",
    "   from django.urls import path\n",
    "   from .views import ProtectedView\n",
    "\n",
    "   urlpatterns = [\n",
    "       ...\n",
    "       path('api/protected/', ProtectedView.as_view(), name='protected'),\n",
    "   ]\n",
    "   ```\n"
   ]
  },
  {
   "cell_type": "markdown",
   "metadata": {},
   "source": [
    "#### Шаг 4. **Создание приложения и токена через админку**"
   ]
  },
  {
   "cell_type": "markdown",
   "metadata": {},
   "source": [
    "Теперь все действия выполняются только через админку:\n",
    "\n",
    "1. **Создайте приложение (Application)**:\n",
    "   - Перейдите в админку: `http://127.0.0.1:8000/admin/`.\n",
    "   - Откройте раздел **Applications** и добавьте новое приложение:\n",
    "     - **Client type**: `Confidential`.\n",
    "     - **Authorization grant type**: `Resource owner password-based`.\n",
    "     - **Name**: укажите имя, например, `My Test App`.\n",
    "   - Сохраните приложение.\n",
    "\n",
    "2. **Создайте токен вручную**:\n",
    "   - В админке перейдите в раздел **Access Tokens**.\n",
    "   - Нажмите **Add** и создайте новый токен:\n",
    "     - **User**: выберите пользователя (например, `admin`).\n",
    "     - **Application**: выберите созданное приложение.\n",
    "     - **Token**: укажите любое значение (например, `testtoken123`).\n",
    "     - **Expires**: установите дату, до которой токен будет действителен.\n",
    "\n",
    "Теперь токен доступен в админке, и вы можете использовать его!"
   ]
  },
  {
   "cell_type": "markdown",
   "metadata": {},
   "source": [
    "#### Шаг 5. **Проверка защищённого API**"
   ]
  },
  {
   "cell_type": "markdown",
   "metadata": {},
   "source": [
    "1. **Откройте браузер**:\n",
    "   Перейдите по следующему адресу, заменив `your_token` на значение токена, который вы создали в админке:\n",
    "   ```\n",
    "   http://127.0.0.1:8000/api/protected/?access_token=your_token\n",
    "   ```\n",
    "\n",
    "2. **Ожидаемый результат**:\n",
    "   Если токен правильный, вы увидите сообщение:\n",
    "   ```json\n",
    "   {\n",
    "       \"message\": \"Вы успешно авторизовались!\",\n",
    "       \"user\": \"admin\"\n",
    "   }\n",
    "   ```\n",
    "\n",
    "Если токен недействителен или отсутствует, вы получите ошибку:\n",
    "```json\n",
    "{\n",
    "    \"error\": \"Invalid token.\"\n",
    "}\n",
    "```\n"
   ]
  },
  {
   "cell_type": "markdown",
   "metadata": {},
   "source": [
    "**Проверка работы**\n",
    "\n",
    "- Теперь вы можете перейти в браузере по адресу (заменив ACCESS_TOKEN на токен, который вы получили):\n",
    "\n",
    "```\n",
    "http://127.0.0.1:8000/api/protected/?access_token=ACCESS_TOKEN\n",
    "```\n",
    "\n",
    "Если всё настроено правильно, вы увидите JSON-ответ"
   ]
  }
 ],
 "metadata": {
  "language_info": {
   "name": "python"
  }
 },
 "nbformat": 4,
 "nbformat_minor": 2
}
